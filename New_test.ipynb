{
 "cells": [
  {
   "cell_type": "code",
   "execution_count": 2,
   "metadata": {},
   "outputs": [
    {
     "name": "stdout",
     "output_type": "stream",
     "text": [
      "Hello world\n"
     ]
    }
   ],
   "source": [
    "print(\"Hello world\")"
   ]
  },
  {
   "cell_type": "code",
   "execution_count": 5,
   "metadata": {},
   "outputs": [],
   "source": [
    "#pip list"
   ]
  },
  {
   "cell_type": "code",
   "execution_count": 8,
   "metadata": {},
   "outputs": [],
   "source": [
    "# bookmyshow.py\n",
    "\n",
    "from selenium import webdriver\n",
    "from selenium.webdriver.support.ui import Select\n",
    "from selenium.webdriver.common.by import By\n",
    "import time\n",
    "\n",
    "class MovieTicketBooking:\n",
    "    def __init__(self, state, movie_name, show_time, seats):\n",
    "        self.movie_name = movie_name\n",
    "        self.show_time = show_time\n",
    "        self.seats = seats\n",
    "        self.state = state\n",
    "        self.driver = webdriver.Chrome()  # Initialize the WebDriver\n",
    "\n",
    "    def open_website(self):\n",
    "        # Open BookMyShow website\n",
    "        self.driver.get(\"https://www.bookmyshow.com\")\n",
    "        state_dropdown = Select(self.driver.find_element(By.ID, \"state-dropdown-id\"))  # Replace with actual ID\n",
    "        state_dropdown.select_by_visible_text(self.state)\n",
    "\n",
    "\n",
    "    # def select_movie(self):\n",
    "    #     # Logic to select the movie\n",
    "    #     pass\n",
    "\n",
    "    # def select_show_time(self):\n",
    "    #     # Logic to select show time\n",
    "    #     pass\n",
    "\n",
    "    # def select_seats(self):\n",
    "    #     # Logic to select seats\n",
    "    #     pass\n",
    "\n",
    "    # def make_payment(self, payment_info):\n",
    "    #     # Logic to process payment\n",
    "    #     pass\n",
    "\n",
    "    # def confirm_booking(self):\n",
    "    #     # Logic to confirm booking\n",
    "    #     pass\n",
    "\n",
    "    # def close_browser(self):\n",
    "    #     # Close the browser\n",
    "    #     self.driver.quit()\n",
    "\n"
   ]
  },
  {
   "cell_type": "code",
   "execution_count": 12,
   "metadata": {},
   "outputs": [
    {
     "ename": "NoSuchElementException",
     "evalue": "Message: no such element: Unable to locate element: {\"method\":\"css selector\",\"selector\":\"[id=\"state-dropdown-id\"]\"}\n  (Session info: chrome=129.0.6668.60); For documentation on this error, please visit: https://www.selenium.dev/documentation/webdriver/troubleshooting/errors#no-such-element-exception\nStacktrace:\n\tGetHandleVerifier [0x00007FF6CB92B125+29573]\n\t(No symbol) [0x00007FF6CB89FF50]\n\t(No symbol) [0x00007FF6CB75B6EA]\n\t(No symbol) [0x00007FF6CB7AF815]\n\t(No symbol) [0x00007FF6CB7AFA6C]\n\t(No symbol) [0x00007FF6CB7FB917]\n\t(No symbol) [0x00007FF6CB7D733F]\n\t(No symbol) [0x00007FF6CB7F86BC]\n\t(No symbol) [0x00007FF6CB7D70A3]\n\t(No symbol) [0x00007FF6CB7A12DF]\n\t(No symbol) [0x00007FF6CB7A2441]\n\tGetHandleVerifier [0x00007FF6CBC5C76D+3377613]\n\tGetHandleVerifier [0x00007FF6CBCA7B67+3685831]\n\tGetHandleVerifier [0x00007FF6CBC9CF8B+3641835]\n\tGetHandleVerifier [0x00007FF6CB9EB2A6+816390]\n\t(No symbol) [0x00007FF6CB8AB25F]\n\t(No symbol) [0x00007FF6CB8A7084]\n\t(No symbol) [0x00007FF6CB8A7220]\n\t(No symbol) [0x00007FF6CB89607F]\n\tBaseThreadInitThunk [0x00007FF9EB367374+20]\n\tRtlUserThreadStart [0x00007FF9EC5DCC91+33]\n",
     "output_type": "error",
     "traceback": [
      "\u001b[1;31m---------------------------------------------------------------------------\u001b[0m",
      "\u001b[1;31mNoSuchElementException\u001b[0m                    Traceback (most recent call last)",
      "Cell \u001b[1;32mIn[12], line 4\u001b[0m\n\u001b[0;32m      2\u001b[0m \u001b[38;5;28;01mif\u001b[39;00m \u001b[38;5;18m__name__\u001b[39m \u001b[38;5;241m==\u001b[39m \u001b[38;5;124m\"\u001b[39m\u001b[38;5;124m__main__\u001b[39m\u001b[38;5;124m\"\u001b[39m:\n\u001b[0;32m      3\u001b[0m     booking \u001b[38;5;241m=\u001b[39m MovieTicketBooking(\u001b[38;5;124m\"\u001b[39m\u001b[38;5;124mMumbai\u001b[39m\u001b[38;5;124m\"\u001b[39m,\u001b[38;5;124m\"\u001b[39m\u001b[38;5;124mMovie Title\u001b[39m\u001b[38;5;124m\"\u001b[39m, \u001b[38;5;124m\"\u001b[39m\u001b[38;5;124m7:00 PM\u001b[39m\u001b[38;5;124m\"\u001b[39m, \u001b[38;5;241m2\u001b[39m)\n\u001b[1;32m----> 4\u001b[0m     \u001b[43mbooking\u001b[49m\u001b[38;5;241;43m.\u001b[39;49m\u001b[43mopen_website\u001b[49m\u001b[43m(\u001b[49m\u001b[43m)\u001b[49m\n\u001b[0;32m      5\u001b[0m     \u001b[38;5;66;03m# booking.select_movie()\u001b[39;00m\n\u001b[0;32m      6\u001b[0m     \u001b[38;5;66;03m# booking.select_show_time()\u001b[39;00m\n\u001b[0;32m      7\u001b[0m     \u001b[38;5;66;03m# booking.select_seats()\u001b[39;00m\n\u001b[0;32m      8\u001b[0m     \u001b[38;5;66;03m# booking.make_payment({\"card_number\": \"1234-5678-9012-3456\", \"expiry\": \"12/25\"})\u001b[39;00m\n\u001b[0;32m      9\u001b[0m     \u001b[38;5;66;03m# booking.confirm_booking()\u001b[39;00m\n\u001b[0;32m     10\u001b[0m     \u001b[38;5;66;03m# booking.close_browser()\u001b[39;00m\n",
      "Cell \u001b[1;32mIn[8], line 19\u001b[0m, in \u001b[0;36mMovieTicketBooking.open_website\u001b[1;34m(self)\u001b[0m\n\u001b[0;32m     16\u001b[0m \u001b[38;5;28;01mdef\u001b[39;00m \u001b[38;5;21mopen_website\u001b[39m(\u001b[38;5;28mself\u001b[39m):\n\u001b[0;32m     17\u001b[0m     \u001b[38;5;66;03m# Open BookMyShow website\u001b[39;00m\n\u001b[0;32m     18\u001b[0m     \u001b[38;5;28mself\u001b[39m\u001b[38;5;241m.\u001b[39mdriver\u001b[38;5;241m.\u001b[39mget(\u001b[38;5;124m\"\u001b[39m\u001b[38;5;124mhttps://www.bookmyshow.com\u001b[39m\u001b[38;5;124m\"\u001b[39m)\n\u001b[1;32m---> 19\u001b[0m     state_dropdown \u001b[38;5;241m=\u001b[39m Select(\u001b[38;5;28;43mself\u001b[39;49m\u001b[38;5;241;43m.\u001b[39;49m\u001b[43mdriver\u001b[49m\u001b[38;5;241;43m.\u001b[39;49m\u001b[43mfind_element\u001b[49m\u001b[43m(\u001b[49m\u001b[43mBy\u001b[49m\u001b[38;5;241;43m.\u001b[39;49m\u001b[43mID\u001b[49m\u001b[43m,\u001b[49m\u001b[43m \u001b[49m\u001b[38;5;124;43m\"\u001b[39;49m\u001b[38;5;124;43mstate-dropdown-id\u001b[39;49m\u001b[38;5;124;43m\"\u001b[39;49m\u001b[43m)\u001b[49m)  \u001b[38;5;66;03m# Replace with actual ID\u001b[39;00m\n\u001b[0;32m     20\u001b[0m     state_dropdown\u001b[38;5;241m.\u001b[39mselect_by_visible_text(\u001b[38;5;28mself\u001b[39m\u001b[38;5;241m.\u001b[39mstate)\n",
      "File \u001b[1;32me:\\Bots\\bots\\Lib\\site-packages\\selenium\\webdriver\\remote\\webdriver.py:748\u001b[0m, in \u001b[0;36mWebDriver.find_element\u001b[1;34m(self, by, value)\u001b[0m\n\u001b[0;32m    745\u001b[0m     by \u001b[38;5;241m=\u001b[39m By\u001b[38;5;241m.\u001b[39mCSS_SELECTOR\n\u001b[0;32m    746\u001b[0m     value \u001b[38;5;241m=\u001b[39m \u001b[38;5;124mf\u001b[39m\u001b[38;5;124m'\u001b[39m\u001b[38;5;124m[name=\u001b[39m\u001b[38;5;124m\"\u001b[39m\u001b[38;5;132;01m{\u001b[39;00mvalue\u001b[38;5;132;01m}\u001b[39;00m\u001b[38;5;124m\"\u001b[39m\u001b[38;5;124m]\u001b[39m\u001b[38;5;124m'\u001b[39m\n\u001b[1;32m--> 748\u001b[0m \u001b[38;5;28;01mreturn\u001b[39;00m \u001b[38;5;28;43mself\u001b[39;49m\u001b[38;5;241;43m.\u001b[39;49m\u001b[43mexecute\u001b[49m\u001b[43m(\u001b[49m\u001b[43mCommand\u001b[49m\u001b[38;5;241;43m.\u001b[39;49m\u001b[43mFIND_ELEMENT\u001b[49m\u001b[43m,\u001b[49m\u001b[43m \u001b[49m\u001b[43m{\u001b[49m\u001b[38;5;124;43m\"\u001b[39;49m\u001b[38;5;124;43musing\u001b[39;49m\u001b[38;5;124;43m\"\u001b[39;49m\u001b[43m:\u001b[49m\u001b[43m \u001b[49m\u001b[43mby\u001b[49m\u001b[43m,\u001b[49m\u001b[43m \u001b[49m\u001b[38;5;124;43m\"\u001b[39;49m\u001b[38;5;124;43mvalue\u001b[39;49m\u001b[38;5;124;43m\"\u001b[39;49m\u001b[43m:\u001b[49m\u001b[43m \u001b[49m\u001b[43mvalue\u001b[49m\u001b[43m}\u001b[49m\u001b[43m)\u001b[49m[\u001b[38;5;124m\"\u001b[39m\u001b[38;5;124mvalue\u001b[39m\u001b[38;5;124m\"\u001b[39m]\n",
      "File \u001b[1;32me:\\Bots\\bots\\Lib\\site-packages\\selenium\\webdriver\\remote\\webdriver.py:354\u001b[0m, in \u001b[0;36mWebDriver.execute\u001b[1;34m(self, driver_command, params)\u001b[0m\n\u001b[0;32m    352\u001b[0m response \u001b[38;5;241m=\u001b[39m \u001b[38;5;28mself\u001b[39m\u001b[38;5;241m.\u001b[39mcommand_executor\u001b[38;5;241m.\u001b[39mexecute(driver_command, params)\n\u001b[0;32m    353\u001b[0m \u001b[38;5;28;01mif\u001b[39;00m response:\n\u001b[1;32m--> 354\u001b[0m     \u001b[38;5;28;43mself\u001b[39;49m\u001b[38;5;241;43m.\u001b[39;49m\u001b[43merror_handler\u001b[49m\u001b[38;5;241;43m.\u001b[39;49m\u001b[43mcheck_response\u001b[49m\u001b[43m(\u001b[49m\u001b[43mresponse\u001b[49m\u001b[43m)\u001b[49m\n\u001b[0;32m    355\u001b[0m     response[\u001b[38;5;124m\"\u001b[39m\u001b[38;5;124mvalue\u001b[39m\u001b[38;5;124m\"\u001b[39m] \u001b[38;5;241m=\u001b[39m \u001b[38;5;28mself\u001b[39m\u001b[38;5;241m.\u001b[39m_unwrap_value(response\u001b[38;5;241m.\u001b[39mget(\u001b[38;5;124m\"\u001b[39m\u001b[38;5;124mvalue\u001b[39m\u001b[38;5;124m\"\u001b[39m, \u001b[38;5;28;01mNone\u001b[39;00m))\n\u001b[0;32m    356\u001b[0m     \u001b[38;5;28;01mreturn\u001b[39;00m response\n",
      "File \u001b[1;32me:\\Bots\\bots\\Lib\\site-packages\\selenium\\webdriver\\remote\\errorhandler.py:229\u001b[0m, in \u001b[0;36mErrorHandler.check_response\u001b[1;34m(self, response)\u001b[0m\n\u001b[0;32m    227\u001b[0m         alert_text \u001b[38;5;241m=\u001b[39m value[\u001b[38;5;124m\"\u001b[39m\u001b[38;5;124malert\u001b[39m\u001b[38;5;124m\"\u001b[39m]\u001b[38;5;241m.\u001b[39mget(\u001b[38;5;124m\"\u001b[39m\u001b[38;5;124mtext\u001b[39m\u001b[38;5;124m\"\u001b[39m)\n\u001b[0;32m    228\u001b[0m     \u001b[38;5;28;01mraise\u001b[39;00m exception_class(message, screen, stacktrace, alert_text)  \u001b[38;5;66;03m# type: ignore[call-arg]  # mypy is not smart enough here\u001b[39;00m\n\u001b[1;32m--> 229\u001b[0m \u001b[38;5;28;01mraise\u001b[39;00m exception_class(message, screen, stacktrace)\n",
      "\u001b[1;31mNoSuchElementException\u001b[0m: Message: no such element: Unable to locate element: {\"method\":\"css selector\",\"selector\":\"[id=\"state-dropdown-id\"]\"}\n  (Session info: chrome=129.0.6668.60); For documentation on this error, please visit: https://www.selenium.dev/documentation/webdriver/troubleshooting/errors#no-such-element-exception\nStacktrace:\n\tGetHandleVerifier [0x00007FF6CB92B125+29573]\n\t(No symbol) [0x00007FF6CB89FF50]\n\t(No symbol) [0x00007FF6CB75B6EA]\n\t(No symbol) [0x00007FF6CB7AF815]\n\t(No symbol) [0x00007FF6CB7AFA6C]\n\t(No symbol) [0x00007FF6CB7FB917]\n\t(No symbol) [0x00007FF6CB7D733F]\n\t(No symbol) [0x00007FF6CB7F86BC]\n\t(No symbol) [0x00007FF6CB7D70A3]\n\t(No symbol) [0x00007FF6CB7A12DF]\n\t(No symbol) [0x00007FF6CB7A2441]\n\tGetHandleVerifier [0x00007FF6CBC5C76D+3377613]\n\tGetHandleVerifier [0x00007FF6CBCA7B67+3685831]\n\tGetHandleVerifier [0x00007FF6CBC9CF8B+3641835]\n\tGetHandleVerifier [0x00007FF6CB9EB2A6+816390]\n\t(No symbol) [0x00007FF6CB8AB25F]\n\t(No symbol) [0x00007FF6CB8A7084]\n\t(No symbol) [0x00007FF6CB8A7220]\n\t(No symbol) [0x00007FF6CB89607F]\n\tBaseThreadInitThunk [0x00007FF9EB367374+20]\n\tRtlUserThreadStart [0x00007FF9EC5DCC91+33]\n"
     ]
    }
   ],
   "source": [
    "# Example usage\n",
    "if __name__ == \"__main__\":\n",
    "    booking = MovieTicketBooking(\"Mumbai\",\"Movie Title\", \"7:00 PM\", 2)\n",
    "    booking.open_website()\n",
    "    # booking.select_movie()\n",
    "    # booking.select_show_time()\n",
    "    # booking.select_seats()\n",
    "    # booking.make_payment({\"card_number\": \"1234-5678-9012-3456\", \"expiry\": \"12/25\"})\n",
    "    # booking.confirm_booking()\n",
    "    # booking.close_browser()"
   ]
  },
  {
   "cell_type": "code",
   "execution_count": null,
   "metadata": {},
   "outputs": [],
   "source": []
  }
 ],
 "metadata": {
  "kernelspec": {
   "display_name": "bots",
   "language": "python",
   "name": "python3"
  },
  "language_info": {
   "codemirror_mode": {
    "name": "ipython",
    "version": 3
   },
   "file_extension": ".py",
   "mimetype": "text/x-python",
   "name": "python",
   "nbconvert_exporter": "python",
   "pygments_lexer": "ipython3",
   "version": "3.11.9"
  }
 },
 "nbformat": 4,
 "nbformat_minor": 2
}
